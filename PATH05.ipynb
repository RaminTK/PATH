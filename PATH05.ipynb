{
  "nbformat": 4,
  "nbformat_minor": 0,
  "metadata": {
    "colab": {
      "provenance": [],
      "authorship_tag": "ABX9TyMqSZSLjAzX/hjLnybwlUBJ",
      "include_colab_link": true
    },
    "kernelspec": {
      "name": "python3",
      "display_name": "Python 3"
    },
    "language_info": {
      "name": "python"
    }
  },
  "cells": [
    {
      "cell_type": "markdown",
      "metadata": {
        "id": "view-in-github",
        "colab_type": "text"
      },
      "source": [
        "<a href=\"https://colab.research.google.com/github/RaminTK/PATH/blob/main/PATH05.ipynb\" target=\"_parent\"><img src=\"https://colab.research.google.com/assets/colab-badge.svg\" alt=\"Open In Colab\"/></a>"
      ]
    },
    {
      "cell_type": "code",
      "source": [
        "import pandas as pd\n",
        "import numpy as np\n",
        "import matplotlib.pyplot as plt\n",
        "from google.colab import drive\n",
        "drive.mount('/content/drive')\n",
        "\n",
        "\n",
        "import re\n",
        "from sklearn.feature_extraction.text import CountVectorizer\n",
        "from sklearn.cluster import KMeans\n"
      ],
      "metadata": {
        "colab": {
          "base_uri": "https://localhost:8080/"
        },
        "id": "5gsCmd90CpSv",
        "outputId": "a0e0d05f-ec73-43a9-d9f5-07b7a73e6eb1"
      },
      "execution_count": 12,
      "outputs": [
        {
          "output_type": "stream",
          "name": "stdout",
          "text": [
            "Drive already mounted at /content/drive; to attempt to forcibly remount, call drive.mount(\"/content/drive\", force_remount=True).\n"
          ]
        }
      ]
    },
    {
      "cell_type": "code",
      "source": [
        "data = pd.read_csv('drive/MyDrive/path/PATHAlerts.csv')\n",
        "data = data.drop('Video Thumbnail', axis=1)\n",
        "data = data.drop('Image', axis=1)\n",
        "data.fillna(0, inplace=True)\n",
        "data['Content']"
      ],
      "metadata": {
        "colab": {
          "base_uri": "https://localhost:8080/"
        },
        "id": "8MT80Z0xXJ70",
        "outputId": "9ec39db3-b013-47a5-e355-52dc27c67e7c"
      },
      "execution_count": 13,
      "outputs": [
        {
          "output_type": "execute_result",
          "data": {
            "text/plain": [
              "0      There's a Red Bull Arena event Sun 07-09-2023 ...\n",
              "1      Trains from Newark & Harrison are once again d...\n",
              "2      JSQ-33 via HOB resuming normal service. Earlie...\n",
              "3      JSQ-33 via HOB delayed. Crew investigating smo...\n",
              "4      05:20 PM: JSQ-33 via HOB delays continue. Main...\n",
              "                             ...                        \n",
              "934    JSQ-33 resuming normal service. PAPD resolved ...\n",
              "935    NWK-WTC operating with residual delays from an...\n",
              "936    JSQ-33 delays continue. HOB-33 resuming normal...\n",
              "937    NWK-WTC operating with  residual delays from a...\n",
              "938    JSQ-33, HOB-33 delayed. Crew reported a trespa...\n",
              "Name: Content, Length: 939, dtype: object"
            ]
          },
          "metadata": {},
          "execution_count": 13
        }
      ]
    },
    {
      "cell_type": "code",
      "source": [
        "def preprocess_text(text):\n",
        "    # Remove URLs\n",
        "    text = re.sub(r'http\\S+', '', text)\n",
        "\n",
        "    # Remove special characters and numbers\n",
        "    text = re.sub(r'[^a-zA-Z]', ' ', text)\n",
        "\n",
        "    # Convert to lowercase\n",
        "    text = text.lower()\n",
        "\n",
        "    # Remove stopwords (if required, you may need to download stopwords using nltk.download('stopwords'))\n",
        "    # from nltk.corpus import stopwords\n",
        "    # stopwords = set(stopwords.words('english'))\n",
        "    # text = ' '.join(word for word in text.split() if word not in stopwords)\n",
        "\n",
        "    return text\n",
        "\n",
        "# Apply the preprocessing function to the 'Content' column\n",
        "data['Content'] = data['Content'].apply(preprocess_text)\n",
        "data['Content']"
      ],
      "metadata": {
        "colab": {
          "base_uri": "https://localhost:8080/"
        },
        "id": "Rp0G-ME0O_IR",
        "outputId": "5034c760-8d91-4c5a-9131-204b74d30533"
      },
      "execution_count": 15,
      "outputs": [
        {
          "output_type": "execute_result",
          "data": {
            "text/plain": [
              "0      there s a red bull arena event sun            ...\n",
              "1      trains from newark   harrison are once again d...\n",
              "2      jsq    via hob resuming normal service  earlie...\n",
              "3      jsq    via hob delayed  crew investigating smo...\n",
              "4            pm  jsq    via hob delays continue  main...\n",
              "                             ...                        \n",
              "934    jsq    resuming normal service  papd resolved ...\n",
              "935    nwk wtc operating with residual delays from an...\n",
              "936    jsq    delays continue  hob    resuming normal...\n",
              "937    nwk wtc operating with  residual delays from a...\n",
              "938    jsq     hob    delayed  crew reported a trespa...\n",
              "Name: Content, Length: 939, dtype: object"
            ]
          },
          "metadata": {},
          "execution_count": 15
        }
      ]
    },
    {
      "cell_type": "code",
      "source": [
        "vectorizer = CountVectorizer()\n",
        "X = vectorizer.fit_transform(data['Content'])\n",
        "X"
      ],
      "metadata": {
        "colab": {
          "base_uri": "https://localhost:8080/"
        },
        "id": "vQGFdd4xvtjz",
        "outputId": "02d6ad3a-9dbf-4b70-b01e-1637b25518d7"
      },
      "execution_count": 18,
      "outputs": [
        {
          "output_type": "execute_result",
          "data": {
            "text/plain": [
              "<939x587 sparse matrix of type '<class 'numpy.int64'>'\n",
              "\twith 20282 stored elements in Compressed Sparse Row format>"
            ]
          },
          "metadata": {},
          "execution_count": 18
        }
      ]
    },
    {
      "cell_type": "code",
      "source": [
        "kmeans = KMeans(n_clusters=5)  # You can adjust the number of clusters as per your needs\n",
        "kmeans.fit(X)\n"
      ],
      "metadata": {
        "colab": {
          "base_uri": "https://localhost:8080/",
          "height": 129
        },
        "id": "YdV2x31qv14h",
        "outputId": "6dde5e7d-7a41-4281-c2dd-911ff7833c63"
      },
      "execution_count": 19,
      "outputs": [
        {
          "output_type": "stream",
          "name": "stderr",
          "text": [
            "/usr/local/lib/python3.10/dist-packages/sklearn/cluster/_kmeans.py:870: FutureWarning: The default value of `n_init` will change from 10 to 'auto' in 1.4. Set the value of `n_init` explicitly to suppress the warning\n",
            "  warnings.warn(\n"
          ]
        },
        {
          "output_type": "execute_result",
          "data": {
            "text/plain": [
              "KMeans(n_clusters=5)"
            ],
            "text/html": [
              "<style>#sk-container-id-1 {color: black;background-color: white;}#sk-container-id-1 pre{padding: 0;}#sk-container-id-1 div.sk-toggleable {background-color: white;}#sk-container-id-1 label.sk-toggleable__label {cursor: pointer;display: block;width: 100%;margin-bottom: 0;padding: 0.3em;box-sizing: border-box;text-align: center;}#sk-container-id-1 label.sk-toggleable__label-arrow:before {content: \"▸\";float: left;margin-right: 0.25em;color: #696969;}#sk-container-id-1 label.sk-toggleable__label-arrow:hover:before {color: black;}#sk-container-id-1 div.sk-estimator:hover label.sk-toggleable__label-arrow:before {color: black;}#sk-container-id-1 div.sk-toggleable__content {max-height: 0;max-width: 0;overflow: hidden;text-align: left;background-color: #f0f8ff;}#sk-container-id-1 div.sk-toggleable__content pre {margin: 0.2em;color: black;border-radius: 0.25em;background-color: #f0f8ff;}#sk-container-id-1 input.sk-toggleable__control:checked~div.sk-toggleable__content {max-height: 200px;max-width: 100%;overflow: auto;}#sk-container-id-1 input.sk-toggleable__control:checked~label.sk-toggleable__label-arrow:before {content: \"▾\";}#sk-container-id-1 div.sk-estimator input.sk-toggleable__control:checked~label.sk-toggleable__label {background-color: #d4ebff;}#sk-container-id-1 div.sk-label input.sk-toggleable__control:checked~label.sk-toggleable__label {background-color: #d4ebff;}#sk-container-id-1 input.sk-hidden--visually {border: 0;clip: rect(1px 1px 1px 1px);clip: rect(1px, 1px, 1px, 1px);height: 1px;margin: -1px;overflow: hidden;padding: 0;position: absolute;width: 1px;}#sk-container-id-1 div.sk-estimator {font-family: monospace;background-color: #f0f8ff;border: 1px dotted black;border-radius: 0.25em;box-sizing: border-box;margin-bottom: 0.5em;}#sk-container-id-1 div.sk-estimator:hover {background-color: #d4ebff;}#sk-container-id-1 div.sk-parallel-item::after {content: \"\";width: 100%;border-bottom: 1px solid gray;flex-grow: 1;}#sk-container-id-1 div.sk-label:hover label.sk-toggleable__label {background-color: #d4ebff;}#sk-container-id-1 div.sk-serial::before {content: \"\";position: absolute;border-left: 1px solid gray;box-sizing: border-box;top: 0;bottom: 0;left: 50%;z-index: 0;}#sk-container-id-1 div.sk-serial {display: flex;flex-direction: column;align-items: center;background-color: white;padding-right: 0.2em;padding-left: 0.2em;position: relative;}#sk-container-id-1 div.sk-item {position: relative;z-index: 1;}#sk-container-id-1 div.sk-parallel {display: flex;align-items: stretch;justify-content: center;background-color: white;position: relative;}#sk-container-id-1 div.sk-item::before, #sk-container-id-1 div.sk-parallel-item::before {content: \"\";position: absolute;border-left: 1px solid gray;box-sizing: border-box;top: 0;bottom: 0;left: 50%;z-index: -1;}#sk-container-id-1 div.sk-parallel-item {display: flex;flex-direction: column;z-index: 1;position: relative;background-color: white;}#sk-container-id-1 div.sk-parallel-item:first-child::after {align-self: flex-end;width: 50%;}#sk-container-id-1 div.sk-parallel-item:last-child::after {align-self: flex-start;width: 50%;}#sk-container-id-1 div.sk-parallel-item:only-child::after {width: 0;}#sk-container-id-1 div.sk-dashed-wrapped {border: 1px dashed gray;margin: 0 0.4em 0.5em 0.4em;box-sizing: border-box;padding-bottom: 0.4em;background-color: white;}#sk-container-id-1 div.sk-label label {font-family: monospace;font-weight: bold;display: inline-block;line-height: 1.2em;}#sk-container-id-1 div.sk-label-container {text-align: center;}#sk-container-id-1 div.sk-container {/* jupyter's `normalize.less` sets `[hidden] { display: none; }` but bootstrap.min.css set `[hidden] { display: none !important; }` so we also need the `!important` here to be able to override the default hidden behavior on the sphinx rendered scikit-learn.org. See: https://github.com/scikit-learn/scikit-learn/issues/21755 */display: inline-block !important;position: relative;}#sk-container-id-1 div.sk-text-repr-fallback {display: none;}</style><div id=\"sk-container-id-1\" class=\"sk-top-container\"><div class=\"sk-text-repr-fallback\"><pre>KMeans(n_clusters=5)</pre><b>In a Jupyter environment, please rerun this cell to show the HTML representation or trust the notebook. <br />On GitHub, the HTML representation is unable to render, please try loading this page with nbviewer.org.</b></div><div class=\"sk-container\" hidden><div class=\"sk-item\"><div class=\"sk-estimator sk-toggleable\"><input class=\"sk-toggleable__control sk-hidden--visually\" id=\"sk-estimator-id-1\" type=\"checkbox\" checked><label for=\"sk-estimator-id-1\" class=\"sk-toggleable__label sk-toggleable__label-arrow\">KMeans</label><div class=\"sk-toggleable__content\"><pre>KMeans(n_clusters=5)</pre></div></div></div></div></div>"
            ]
          },
          "metadata": {},
          "execution_count": 19
        }
      ]
    },
    {
      "cell_type": "code",
      "source": [
        "clusters = kmeans.predict(X)\n",
        "\n",
        "for cluster_id in range(kmeans.n_clusters):\n",
        "    cluster_tweets = data[clusters == cluster_id]['Content']\n",
        "    print(f\"Cluster {cluster_id}:\")\n",
        "    print(cluster_tweets)\n",
        "    print()\n"
      ],
      "metadata": {
        "colab": {
          "base_uri": "https://localhost:8080/"
        },
        "id": "qCiRHCU8v57n",
        "outputId": "864d380a-d4e5-4222-ccbe-57c3384c8dad"
      },
      "execution_count": 20,
      "outputs": [
        {
          "output_type": "stream",
          "name": "stdout",
          "text": [
            "Cluster 0:\n",
            "25       st and    st stations closed nightly from ap...\n",
            "34       st and    st stations closed nightly from ap...\n",
            "45       st and    st stations closed nightly from ap...\n",
            "70         st      st      st and    st stations  usu...\n",
            "78         st      st      st and    st stations  usu...\n",
            "                             ...                        \n",
            "898      st and    st stations closed nightly from ap...\n",
            "912      st and    st stations closed nightly from ap...\n",
            "925      st and    st stations closed nightly from ap...\n",
            "926      st and    st stations closed nightly from ap...\n",
            "931      st and    st stations closed nightly from ap...\n",
            "Name: Content, Length: 70, dtype: object\n",
            "\n",
            "Cluster 1:\n",
            "3      jsq    via hob delayed  crew investigating smo...\n",
            "4            pm  jsq    via hob delays continue  main...\n",
            "5            pm  jsq    via hob delayed  dispatch has...\n",
            "9      nwk wtc delayed  crews working to lock hack ri...\n",
            "10     nwk wtc delayed  crews continue working to loc...\n",
            "                             ...                        \n",
            "916    nwk wtc delayed  network communication issue t...\n",
            "922    hob wtc  hob    delayed  crew working to resol...\n",
            "932    mandatory hack river bridge lifts scheduled th...\n",
            "935    nwk wtc operating with residual delays from an...\n",
            "937    nwk wtc operating with  residual delays from a...\n",
            "Name: Content, Length: 431, dtype: object\n",
            "\n",
            "Cluster 2:\n",
            "0      there s a red bull arena event sun            ...\n",
            "1      trains from newark   harrison are once again d...\n",
            "2      jsq    via hob resuming normal service  earlie...\n",
            "6      at expl  the elevator from mezz to platform is...\n",
            "7      there s a red bull arena event sat            ...\n",
            "                             ...                        \n",
            "930             final update  hob    resuming normal ...\n",
            "933    nwk wtc resuming normal service  crews have re...\n",
            "934    jsq    resuming normal service  papd resolved ...\n",
            "936    jsq    delays continue  hob    resuming normal...\n",
            "938    jsq     hob    delayed  crew reported a trespa...\n",
            "Name: Content, Length: 387, dtype: object\n",
            "\n",
            "Cluster 3:\n",
            "24           pm  service to from newark operates from...\n",
            "33     service to from newark operates from b c platf...\n",
            "41           pm  service to from newark operates from...\n",
            "53     service to from newark operates from b c platf...\n",
            "60     service to from newark operates from b c platf...\n",
            "69     service to from newark operates from b c platf...\n",
            "198          am  service to from newark operates from...\n",
            "500    service to from newark operates from b c platf...\n",
            "624          am  service to from newark operates from...\n",
            "630          am  service to from newark operates from...\n",
            "691          am  service to from newark operates from...\n",
            "740          am  service to from newark operates from...\n",
            "767          a m  service to from newark operates fro...\n",
            "779          am  service to from newark operates from...\n",
            "810          am  service to from newark operates from...\n",
            "832    service to from newark operates from b c platf...\n",
            "851    service to from newark operates from b c platf...\n",
            "872    service to from newark operates from b c platf...\n",
            "891    service to from newark operates from b c platf...\n",
            "Name: Content, dtype: object\n",
            "\n",
            "Cluster 4:\n",
            "669          pm  path is making investments system wi...\n",
            "679          am  path is making investments system wi...\n",
            "690          am  path is making investments system wi...\n",
            "696          pm  path is making investments system wi...\n",
            "704          am  path is making investments system wi...\n",
            "712          pm  path is making investments system wi...\n",
            "718          am  path is making investments system wi...\n",
            "738          pm  path is making investments system wi...\n",
            "752          am  path is making investments system wi...\n",
            "761          pm  path is making investments system wi...\n",
            "773          pm  path is making investments system wi...\n",
            "790          am  path is making investments system wi...\n",
            "807          pm  path is making investments system wi...\n",
            "814          am  path is making investments system wi...\n",
            "819          pm  path is making investments system wi...\n",
            "823          pm  path is making investments system wi...\n",
            "829          am  path is making investments system wi...\n",
            "831          pm  path is making investments system wi...\n",
            "833          am  path is making investments system wi...\n",
            "847          pm  path is making investments system wi...\n",
            "859          am  path is making investments system wi...\n",
            "868          pm  path is making investments system wi...\n",
            "877          am  path is making investments system wi...\n",
            "888          pm  path is making investments system wi...\n",
            "890          pm  path is making investments system wi...\n",
            "894          am  path is making investments system wi...\n",
            "901          pm  path is making investments system wi...\n",
            "903          pm  path is making investments system wi...\n",
            "909          am  path is making investments system wi...\n",
            "918          pm  path is making investments system wi...\n",
            "924          am  path is making investments system wi...\n",
            "929          pm  path is making investments system wi...\n",
            "Name: Content, dtype: object\n",
            "\n"
          ]
        }
      ]
    },
    {
      "cell_type": "code",
      "execution_count": null,
      "metadata": {
        "colab": {
          "base_uri": "https://localhost:8080/",
          "height": 425
        },
        "id": "DYQcVlD7JAFq",
        "outputId": "c334129c-f00c-4e66-af13-17379af0c927"
      },
      "outputs": [
        {
          "output_type": "error",
          "ename": "Unauthorized",
          "evalue": "ignored",
          "traceback": [
            "\u001b[0;31m---------------------------------------------------------------------------\u001b[0m",
            "\u001b[0;31mUnauthorized\u001b[0m                              Traceback (most recent call last)",
            "\u001b[0;32m<ipython-input-1-60c0bc6dce00>\u001b[0m in \u001b[0;36m<cell line: 15>\u001b[0;34m()\u001b[0m\n\u001b[1;32m     13\u001b[0m \u001b[0;34m\u001b[0m\u001b[0m\n\u001b[1;32m     14\u001b[0m \u001b[0;31m# You need to replace 'PATHTrain' with the actual Twitter handle of NJ PATH\u001b[0m\u001b[0;34m\u001b[0m\u001b[0;34m\u001b[0m\u001b[0m\n\u001b[0;32m---> 15\u001b[0;31m \u001b[0mtweets\u001b[0m \u001b[0;34m=\u001b[0m \u001b[0mapi\u001b[0m\u001b[0;34m.\u001b[0m\u001b[0muser_timeline\u001b[0m\u001b[0;34m(\u001b[0m\u001b[0mscreen_name\u001b[0m\u001b[0;34m=\u001b[0m\u001b[0;34m'PATHTrain'\u001b[0m\u001b[0;34m,\u001b[0m \u001b[0mcount\u001b[0m\u001b[0;34m=\u001b[0m\u001b[0;36m200\u001b[0m\u001b[0;34m,\u001b[0m \u001b[0mtweet_mode\u001b[0m\u001b[0;34m=\u001b[0m\u001b[0;34m'extended'\u001b[0m\u001b[0;34m)\u001b[0m\u001b[0;34m\u001b[0m\u001b[0;34m\u001b[0m\u001b[0m\n\u001b[0m\u001b[1;32m     16\u001b[0m \u001b[0;34m\u001b[0m\u001b[0m\n\u001b[1;32m     17\u001b[0m \u001b[0mdisruptions\u001b[0m \u001b[0;34m=\u001b[0m \u001b[0;34m[\u001b[0m\u001b[0;34m'delay'\u001b[0m\u001b[0;34m,\u001b[0m \u001b[0;34m'disruption'\u001b[0m\u001b[0;34m,\u001b[0m \u001b[0;34m'maintenance'\u001b[0m\u001b[0;34m,\u001b[0m \u001b[0;34m'suspended'\u001b[0m\u001b[0;34m,\u001b[0m \u001b[0;34m'cancelled'\u001b[0m\u001b[0;34m]\u001b[0m\u001b[0;34m\u001b[0m\u001b[0;34m\u001b[0m\u001b[0m\n",
            "\u001b[0;32m/usr/local/lib/python3.10/dist-packages/tweepy/api.py\u001b[0m in \u001b[0;36mwrapper\u001b[0;34m(*args, **kwargs)\u001b[0m\n\u001b[1;32m     31\u001b[0m         \u001b[0;34m@\u001b[0m\u001b[0mfunctools\u001b[0m\u001b[0;34m.\u001b[0m\u001b[0mwraps\u001b[0m\u001b[0;34m(\u001b[0m\u001b[0mmethod\u001b[0m\u001b[0;34m)\u001b[0m\u001b[0;34m\u001b[0m\u001b[0;34m\u001b[0m\u001b[0m\n\u001b[1;32m     32\u001b[0m         \u001b[0;32mdef\u001b[0m \u001b[0mwrapper\u001b[0m\u001b[0;34m(\u001b[0m\u001b[0;34m*\u001b[0m\u001b[0margs\u001b[0m\u001b[0;34m,\u001b[0m \u001b[0;34m**\u001b[0m\u001b[0mkwargs\u001b[0m\u001b[0;34m)\u001b[0m\u001b[0;34m:\u001b[0m\u001b[0;34m\u001b[0m\u001b[0;34m\u001b[0m\u001b[0m\n\u001b[0;32m---> 33\u001b[0;31m             \u001b[0;32mreturn\u001b[0m \u001b[0mmethod\u001b[0m\u001b[0;34m(\u001b[0m\u001b[0;34m*\u001b[0m\u001b[0margs\u001b[0m\u001b[0;34m,\u001b[0m \u001b[0;34m**\u001b[0m\u001b[0mkwargs\u001b[0m\u001b[0;34m)\u001b[0m\u001b[0;34m\u001b[0m\u001b[0;34m\u001b[0m\u001b[0m\n\u001b[0m\u001b[1;32m     34\u001b[0m         \u001b[0mwrapper\u001b[0m\u001b[0;34m.\u001b[0m\u001b[0mpagination_mode\u001b[0m \u001b[0;34m=\u001b[0m \u001b[0mmode\u001b[0m\u001b[0;34m\u001b[0m\u001b[0;34m\u001b[0m\u001b[0m\n\u001b[1;32m     35\u001b[0m         \u001b[0;32mreturn\u001b[0m \u001b[0mwrapper\u001b[0m\u001b[0;34m\u001b[0m\u001b[0;34m\u001b[0m\u001b[0m\n",
            "\u001b[0;32m/usr/local/lib/python3.10/dist-packages/tweepy/api.py\u001b[0m in \u001b[0;36mwrapper\u001b[0;34m(*args, **kwargs)\u001b[0m\n\u001b[1;32m     44\u001b[0m             \u001b[0mkwargs\u001b[0m\u001b[0;34m[\u001b[0m\u001b[0;34m'payload_list'\u001b[0m\u001b[0;34m]\u001b[0m \u001b[0;34m=\u001b[0m \u001b[0mpayload_list\u001b[0m\u001b[0;34m\u001b[0m\u001b[0;34m\u001b[0m\u001b[0m\n\u001b[1;32m     45\u001b[0m             \u001b[0mkwargs\u001b[0m\u001b[0;34m[\u001b[0m\u001b[0;34m'payload_type'\u001b[0m\u001b[0;34m]\u001b[0m \u001b[0;34m=\u001b[0m \u001b[0mpayload_type\u001b[0m\u001b[0;34m\u001b[0m\u001b[0;34m\u001b[0m\u001b[0m\n\u001b[0;32m---> 46\u001b[0;31m             \u001b[0;32mreturn\u001b[0m \u001b[0mmethod\u001b[0m\u001b[0;34m(\u001b[0m\u001b[0;34m*\u001b[0m\u001b[0margs\u001b[0m\u001b[0;34m,\u001b[0m \u001b[0;34m**\u001b[0m\u001b[0mkwargs\u001b[0m\u001b[0;34m)\u001b[0m\u001b[0;34m\u001b[0m\u001b[0;34m\u001b[0m\u001b[0m\n\u001b[0m\u001b[1;32m     47\u001b[0m         \u001b[0mwrapper\u001b[0m\u001b[0;34m.\u001b[0m\u001b[0mpayload_list\u001b[0m \u001b[0;34m=\u001b[0m \u001b[0mpayload_list\u001b[0m\u001b[0;34m\u001b[0m\u001b[0;34m\u001b[0m\u001b[0m\n\u001b[1;32m     48\u001b[0m         \u001b[0mwrapper\u001b[0m\u001b[0;34m.\u001b[0m\u001b[0mpayload_type\u001b[0m \u001b[0;34m=\u001b[0m \u001b[0mpayload_type\u001b[0m\u001b[0;34m\u001b[0m\u001b[0;34m\u001b[0m\u001b[0m\n",
            "\u001b[0;32m/usr/local/lib/python3.10/dist-packages/tweepy/api.py\u001b[0m in \u001b[0;36muser_timeline\u001b[0;34m(self, **kwargs)\u001b[0m\n\u001b[1;32m    575\u001b[0m         \u001b[0mhttps\u001b[0m\u001b[0;34m:\u001b[0m\u001b[0;34m//\u001b[0m\u001b[0mdeveloper\u001b[0m\u001b[0;34m.\u001b[0m\u001b[0mtwitter\u001b[0m\u001b[0;34m.\u001b[0m\u001b[0mcom\u001b[0m\u001b[0;34m/\u001b[0m\u001b[0men\u001b[0m\u001b[0;34m/\u001b[0m\u001b[0mdocs\u001b[0m\u001b[0;34m/\u001b[0m\u001b[0mtwitter\u001b[0m\u001b[0;34m-\u001b[0m\u001b[0mapi\u001b[0m\u001b[0;34m/\u001b[0m\u001b[0mv1\u001b[0m\u001b[0;34m/\u001b[0m\u001b[0mtweets\u001b[0m\u001b[0;34m/\u001b[0m\u001b[0mtimelines\u001b[0m\u001b[0;34m/\u001b[0m\u001b[0mapi\u001b[0m\u001b[0;34m-\u001b[0m\u001b[0mreference\u001b[0m\u001b[0;34m/\u001b[0m\u001b[0mget\u001b[0m\u001b[0;34m-\u001b[0m\u001b[0mstatuses\u001b[0m\u001b[0;34m-\u001b[0m\u001b[0muser_timeline\u001b[0m\u001b[0;34m\u001b[0m\u001b[0;34m\u001b[0m\u001b[0m\n\u001b[1;32m    576\u001b[0m         \"\"\"\n\u001b[0;32m--> 577\u001b[0;31m         return self.request(\n\u001b[0m\u001b[1;32m    578\u001b[0m             'GET', 'statuses/user_timeline', endpoint_parameters=(\n\u001b[1;32m    579\u001b[0m                 \u001b[0;34m'user_id'\u001b[0m\u001b[0;34m,\u001b[0m \u001b[0;34m'screen_name'\u001b[0m\u001b[0;34m,\u001b[0m \u001b[0;34m'since_id'\u001b[0m\u001b[0;34m,\u001b[0m \u001b[0;34m'count'\u001b[0m\u001b[0;34m,\u001b[0m \u001b[0;34m'max_id'\u001b[0m\u001b[0;34m,\u001b[0m\u001b[0;34m\u001b[0m\u001b[0;34m\u001b[0m\u001b[0m\n",
            "\u001b[0;32m/usr/local/lib/python3.10/dist-packages/tweepy/api.py\u001b[0m in \u001b[0;36mrequest\u001b[0;34m(self, method, endpoint, endpoint_parameters, params, headers, json_payload, parser, payload_list, payload_type, post_data, files, require_auth, return_cursors, upload_api, use_cache, **kwargs)\u001b[0m\n\u001b[1;32m    261\u001b[0m                 \u001b[0;32mraise\u001b[0m \u001b[0mBadRequest\u001b[0m\u001b[0;34m(\u001b[0m\u001b[0mresp\u001b[0m\u001b[0;34m)\u001b[0m\u001b[0;34m\u001b[0m\u001b[0;34m\u001b[0m\u001b[0m\n\u001b[1;32m    262\u001b[0m             \u001b[0;32mif\u001b[0m \u001b[0mresp\u001b[0m\u001b[0;34m.\u001b[0m\u001b[0mstatus_code\u001b[0m \u001b[0;34m==\u001b[0m \u001b[0;36m401\u001b[0m\u001b[0;34m:\u001b[0m\u001b[0;34m\u001b[0m\u001b[0;34m\u001b[0m\u001b[0m\n\u001b[0;32m--> 263\u001b[0;31m                 \u001b[0;32mraise\u001b[0m \u001b[0mUnauthorized\u001b[0m\u001b[0;34m(\u001b[0m\u001b[0mresp\u001b[0m\u001b[0;34m)\u001b[0m\u001b[0;34m\u001b[0m\u001b[0;34m\u001b[0m\u001b[0m\n\u001b[0m\u001b[1;32m    264\u001b[0m             \u001b[0;32mif\u001b[0m \u001b[0mresp\u001b[0m\u001b[0;34m.\u001b[0m\u001b[0mstatus_code\u001b[0m \u001b[0;34m==\u001b[0m \u001b[0;36m403\u001b[0m\u001b[0;34m:\u001b[0m\u001b[0;34m\u001b[0m\u001b[0;34m\u001b[0m\u001b[0m\n\u001b[1;32m    265\u001b[0m                 \u001b[0;32mraise\u001b[0m \u001b[0mForbidden\u001b[0m\u001b[0;34m(\u001b[0m\u001b[0mresp\u001b[0m\u001b[0;34m)\u001b[0m\u001b[0;34m\u001b[0m\u001b[0;34m\u001b[0m\u001b[0m\n",
            "\u001b[0;31mUnauthorized\u001b[0m: 401 Unauthorized\n89 - Invalid or expired token."
          ]
        }
      ],
      "source": [
        "import tweepy\n",
        "\n",
        "# Enter your own Twitter API credentials here\n",
        "consumer_key = 'API_KEY'\n",
        "consumer_secret = 'API_SECRET_KEY'\n",
        "access_token = 'ACCESS_TOKEN'\n",
        "access_token_secret = 'ACCESS_TOKEN_SECRET'\n",
        "\n",
        "auth = tweepy.OAuthHandler(consumer_key, consumer_secret)\n",
        "auth.set_access_token(access_token, access_token_secret)\n",
        "\n",
        "api = tweepy.API(auth)\n",
        "\n",
        "# You need to replace 'PATHTrain' with the actual Twitter handle of NJ PATH\n",
        "tweets = api.user_timeline(screen_name='PATHTrain', count=200, tweet_mode='extended')\n",
        "\n",
        "disruptions = ['delay', 'disruption', 'maintenance', 'suspended', 'cancelled']\n",
        "\n",
        "for tweet in tweets:\n",
        "    if any(disruption in tweet.full_text.lower() for disruption in disruptions):\n",
        "        print(f\"{tweet.created_at} - {tweet.full_text}\\n\")\n"
      ]
    },
    {
      "cell_type": "code",
      "source": [],
      "metadata": {
        "id": "iZMFqg1fJA3a"
      },
      "execution_count": null,
      "outputs": []
    }
  ]
}